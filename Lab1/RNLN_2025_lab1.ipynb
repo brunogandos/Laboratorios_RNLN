{
  "nbformat": 4,
  "nbformat_minor": 0,
  "metadata": {
    "colab": {
      "provenance": [],
      "gpuType": "T4"
    },
    "kernelspec": {
      "name": "python3",
      "display_name": "Python 3"
    },
    "language_info": {
      "name": "python"
    },
    "widgets": {
      "application/vnd.jupyter.widget-state+json": {
        "45580c7b97c44f6f8c6463f9184957de": {
          "model_module": "@jupyter-widgets/controls",
          "model_name": "HBoxModel",
          "model_module_version": "1.5.0",
          "state": {
            "_dom_classes": [],
            "_model_module": "@jupyter-widgets/controls",
            "_model_module_version": "1.5.0",
            "_model_name": "HBoxModel",
            "_view_count": null,
            "_view_module": "@jupyter-widgets/controls",
            "_view_module_version": "1.5.0",
            "_view_name": "HBoxView",
            "box_style": "",
            "children": [
              "IPY_MODEL_a567087a45754ebc9ea1e9ff1ac803b8",
              "IPY_MODEL_6366efa77ca64c1d878ea0e86ae48042",
              "IPY_MODEL_ee16e37b6496428aaeb672187da67c22"
            ],
            "layout": "IPY_MODEL_040d2fa8d3fb4f8cb047bb7d3655c6e4"
          }
        },
        "a567087a45754ebc9ea1e9ff1ac803b8": {
          "model_module": "@jupyter-widgets/controls",
          "model_name": "HTMLModel",
          "model_module_version": "1.5.0",
          "state": {
            "_dom_classes": [],
            "_model_module": "@jupyter-widgets/controls",
            "_model_module_version": "1.5.0",
            "_model_name": "HTMLModel",
            "_view_count": null,
            "_view_module": "@jupyter-widgets/controls",
            "_view_module_version": "1.5.0",
            "_view_name": "HTMLView",
            "description": "",
            "description_tooltip": null,
            "layout": "IPY_MODEL_85f808cb9a8c4b5480f632c855569e5c",
            "placeholder": "​",
            "style": "IPY_MODEL_bbf2896557034ebdaa33085d0c0d6283",
            "value": "eswiki_20180420_100d.txt: 100%"
          }
        },
        "6366efa77ca64c1d878ea0e86ae48042": {
          "model_module": "@jupyter-widgets/controls",
          "model_name": "FloatProgressModel",
          "model_module_version": "1.5.0",
          "state": {
            "_dom_classes": [],
            "_model_module": "@jupyter-widgets/controls",
            "_model_module_version": "1.5.0",
            "_model_name": "FloatProgressModel",
            "_view_count": null,
            "_view_module": "@jupyter-widgets/controls",
            "_view_module_version": "1.5.0",
            "_view_name": "ProgressView",
            "bar_style": "success",
            "description": "",
            "description_tooltip": null,
            "layout": "IPY_MODEL_2e4ad886f6714f26802428328ac206f6",
            "max": 1409935804,
            "min": 0,
            "orientation": "horizontal",
            "style": "IPY_MODEL_10e8e45569d1451d99c286a201f1c60a",
            "value": 1409935804
          }
        },
        "ee16e37b6496428aaeb672187da67c22": {
          "model_module": "@jupyter-widgets/controls",
          "model_name": "HTMLModel",
          "model_module_version": "1.5.0",
          "state": {
            "_dom_classes": [],
            "_model_module": "@jupyter-widgets/controls",
            "_model_module_version": "1.5.0",
            "_model_name": "HTMLModel",
            "_view_count": null,
            "_view_module": "@jupyter-widgets/controls",
            "_view_module_version": "1.5.0",
            "_view_name": "HTMLView",
            "description": "",
            "description_tooltip": null,
            "layout": "IPY_MODEL_f848337aa2b04844befd600410dc573f",
            "placeholder": "​",
            "style": "IPY_MODEL_64b8a67b1d054a84968985983cfbbfed",
            "value": " 1.41G/1.41G [00:17&lt;00:00, 96.6MB/s]"
          }
        },
        "040d2fa8d3fb4f8cb047bb7d3655c6e4": {
          "model_module": "@jupyter-widgets/base",
          "model_name": "LayoutModel",
          "model_module_version": "1.2.0",
          "state": {
            "_model_module": "@jupyter-widgets/base",
            "_model_module_version": "1.2.0",
            "_model_name": "LayoutModel",
            "_view_count": null,
            "_view_module": "@jupyter-widgets/base",
            "_view_module_version": "1.2.0",
            "_view_name": "LayoutView",
            "align_content": null,
            "align_items": null,
            "align_self": null,
            "border": null,
            "bottom": null,
            "display": null,
            "flex": null,
            "flex_flow": null,
            "grid_area": null,
            "grid_auto_columns": null,
            "grid_auto_flow": null,
            "grid_auto_rows": null,
            "grid_column": null,
            "grid_gap": null,
            "grid_row": null,
            "grid_template_areas": null,
            "grid_template_columns": null,
            "grid_template_rows": null,
            "height": null,
            "justify_content": null,
            "justify_items": null,
            "left": null,
            "margin": null,
            "max_height": null,
            "max_width": null,
            "min_height": null,
            "min_width": null,
            "object_fit": null,
            "object_position": null,
            "order": null,
            "overflow": null,
            "overflow_x": null,
            "overflow_y": null,
            "padding": null,
            "right": null,
            "top": null,
            "visibility": null,
            "width": null
          }
        },
        "85f808cb9a8c4b5480f632c855569e5c": {
          "model_module": "@jupyter-widgets/base",
          "model_name": "LayoutModel",
          "model_module_version": "1.2.0",
          "state": {
            "_model_module": "@jupyter-widgets/base",
            "_model_module_version": "1.2.0",
            "_model_name": "LayoutModel",
            "_view_count": null,
            "_view_module": "@jupyter-widgets/base",
            "_view_module_version": "1.2.0",
            "_view_name": "LayoutView",
            "align_content": null,
            "align_items": null,
            "align_self": null,
            "border": null,
            "bottom": null,
            "display": null,
            "flex": null,
            "flex_flow": null,
            "grid_area": null,
            "grid_auto_columns": null,
            "grid_auto_flow": null,
            "grid_auto_rows": null,
            "grid_column": null,
            "grid_gap": null,
            "grid_row": null,
            "grid_template_areas": null,
            "grid_template_columns": null,
            "grid_template_rows": null,
            "height": null,
            "justify_content": null,
            "justify_items": null,
            "left": null,
            "margin": null,
            "max_height": null,
            "max_width": null,
            "min_height": null,
            "min_width": null,
            "object_fit": null,
            "object_position": null,
            "order": null,
            "overflow": null,
            "overflow_x": null,
            "overflow_y": null,
            "padding": null,
            "right": null,
            "top": null,
            "visibility": null,
            "width": null
          }
        },
        "bbf2896557034ebdaa33085d0c0d6283": {
          "model_module": "@jupyter-widgets/controls",
          "model_name": "DescriptionStyleModel",
          "model_module_version": "1.5.0",
          "state": {
            "_model_module": "@jupyter-widgets/controls",
            "_model_module_version": "1.5.0",
            "_model_name": "DescriptionStyleModel",
            "_view_count": null,
            "_view_module": "@jupyter-widgets/base",
            "_view_module_version": "1.2.0",
            "_view_name": "StyleView",
            "description_width": ""
          }
        },
        "2e4ad886f6714f26802428328ac206f6": {
          "model_module": "@jupyter-widgets/base",
          "model_name": "LayoutModel",
          "model_module_version": "1.2.0",
          "state": {
            "_model_module": "@jupyter-widgets/base",
            "_model_module_version": "1.2.0",
            "_model_name": "LayoutModel",
            "_view_count": null,
            "_view_module": "@jupyter-widgets/base",
            "_view_module_version": "1.2.0",
            "_view_name": "LayoutView",
            "align_content": null,
            "align_items": null,
            "align_self": null,
            "border": null,
            "bottom": null,
            "display": null,
            "flex": null,
            "flex_flow": null,
            "grid_area": null,
            "grid_auto_columns": null,
            "grid_auto_flow": null,
            "grid_auto_rows": null,
            "grid_column": null,
            "grid_gap": null,
            "grid_row": null,
            "grid_template_areas": null,
            "grid_template_columns": null,
            "grid_template_rows": null,
            "height": null,
            "justify_content": null,
            "justify_items": null,
            "left": null,
            "margin": null,
            "max_height": null,
            "max_width": null,
            "min_height": null,
            "min_width": null,
            "object_fit": null,
            "object_position": null,
            "order": null,
            "overflow": null,
            "overflow_x": null,
            "overflow_y": null,
            "padding": null,
            "right": null,
            "top": null,
            "visibility": null,
            "width": null
          }
        },
        "10e8e45569d1451d99c286a201f1c60a": {
          "model_module": "@jupyter-widgets/controls",
          "model_name": "ProgressStyleModel",
          "model_module_version": "1.5.0",
          "state": {
            "_model_module": "@jupyter-widgets/controls",
            "_model_module_version": "1.5.0",
            "_model_name": "ProgressStyleModel",
            "_view_count": null,
            "_view_module": "@jupyter-widgets/base",
            "_view_module_version": "1.2.0",
            "_view_name": "StyleView",
            "bar_color": null,
            "description_width": ""
          }
        },
        "f848337aa2b04844befd600410dc573f": {
          "model_module": "@jupyter-widgets/base",
          "model_name": "LayoutModel",
          "model_module_version": "1.2.0",
          "state": {
            "_model_module": "@jupyter-widgets/base",
            "_model_module_version": "1.2.0",
            "_model_name": "LayoutModel",
            "_view_count": null,
            "_view_module": "@jupyter-widgets/base",
            "_view_module_version": "1.2.0",
            "_view_name": "LayoutView",
            "align_content": null,
            "align_items": null,
            "align_self": null,
            "border": null,
            "bottom": null,
            "display": null,
            "flex": null,
            "flex_flow": null,
            "grid_area": null,
            "grid_auto_columns": null,
            "grid_auto_flow": null,
            "grid_auto_rows": null,
            "grid_column": null,
            "grid_gap": null,
            "grid_row": null,
            "grid_template_areas": null,
            "grid_template_columns": null,
            "grid_template_rows": null,
            "height": null,
            "justify_content": null,
            "justify_items": null,
            "left": null,
            "margin": null,
            "max_height": null,
            "max_width": null,
            "min_height": null,
            "min_width": null,
            "object_fit": null,
            "object_position": null,
            "order": null,
            "overflow": null,
            "overflow_x": null,
            "overflow_y": null,
            "padding": null,
            "right": null,
            "top": null,
            "visibility": null,
            "width": null
          }
        },
        "64b8a67b1d054a84968985983cfbbfed": {
          "model_module": "@jupyter-widgets/controls",
          "model_name": "DescriptionStyleModel",
          "model_module_version": "1.5.0",
          "state": {
            "_model_module": "@jupyter-widgets/controls",
            "_model_module_version": "1.5.0",
            "_model_name": "DescriptionStyleModel",
            "_view_count": null,
            "_view_module": "@jupyter-widgets/base",
            "_view_module_version": "1.2.0",
            "_view_name": "StyleView",
            "description_width": ""
          }
        }
      }
    }
  },
  "cells": [
    {
      "cell_type": "markdown",
      "source": [
        "# Laboratorio 1\n",
        "**Redes Neuronales para Lenguaje Natural, 2025**\n",
        "\n",
        "En este laboratorio construiremos analizadores de sentimiento de tres clases (positivo, negativo, neutro) en textos que muestran opiniones, con el objetivo de comparar distintas técnicas de representación de los textos y utilizarlas para alimentar un modelo de redes neuronales.\n",
        "\n",
        "**Entrega: 9 de octubre de 2025**\n",
        "\n",
        "**Formato: notebook de Python (.ipynb)**\n",
        "\n",
        "**No olvidar mantener todas las salidas de cada región de código en el notebook!**\n",
        "\n",
        "---\n",
        "\n"
      ],
      "metadata": {
        "id": "t9ZNGOygrFsT"
      }
    },
    {
      "cell_type": "markdown",
      "source": [
        "## 0. Preparación del entorno"
      ],
      "metadata": {
        "id": "cc9wopipf1gD"
      }
    },
    {
      "cell_type": "markdown",
      "source": [
        "Comenzamos con algunos imports y definiciones."
      ],
      "metadata": {
        "id": "jGKhZr0-Yx9O"
      }
    },
    {
      "cell_type": "code",
      "source": [
        "! pip install --upgrade gensim numpy scipy\n",
        "!pip install nltk\n",
        "\n",
        "import torch\n",
        "import gensim\n",
        "import numpy as np\n",
        "import pandas as pd\n",
        "from sklearn.metrics import precision_recall_fscore_support, accuracy_score, confusion_matrix\n",
        "\n",
        "import os\n",
        "import random\n",
        "import torch.optim as optim\n",
        "from collections import Counter\n",
        "import torch\n",
        "import torch.nn as nn\n",
        "import torch.nn.functional as F\n",
        "from torch.utils.data import Dataset, DataLoader\n",
        "from sklearn.feature_extraction.text import CountVectorizer, TfidfVectorizer\n",
        "from sklearn.decomposition import TruncatedSVD\n",
        "from sklearn.model_selection import train_test_split\n",
        "import matplotlib.pyplot as plt\n",
        "import seaborn as sn\n",
        "\n",
        "\n",
        "import nltk\n",
        "nltk.download('punkt') # tokenización básica de oraciones/palabras\n",
        "nltk.download('punkt_tab')\n",
        "nltk.download('stopwords')\n",
        "from nltk.corpus import stopwords\n",
        "from nltk.tokenize import word_tokenize\n",
        "\n",
        "\n",
        "POLARITY_LABELS = ['Neg','Pos','Neu']\n",
        "POLARITY_ID = {p:i for (i,p) in enumerate(POLARITY_LABELS) }"
      ],
      "metadata": {
        "id": "sdk0m1WfYoeW",
        "collapsed": true,
        "colab": {
          "base_uri": "https://localhost:8080/"
        },
        "outputId": "ec9ed2d1-7963-4975-d311-2ddf38dfa65a"
      },
      "execution_count": null,
      "outputs": [
        {
          "output_type": "stream",
          "name": "stdout",
          "text": [
            "Requirement already satisfied: gensim in /usr/local/lib/python3.12/dist-packages (4.3.3)\n",
            "Requirement already satisfied: numpy in /usr/local/lib/python3.12/dist-packages (1.26.4)\n",
            "Collecting numpy\n",
            "  Using cached numpy-2.3.3-cp312-cp312-manylinux_2_27_x86_64.manylinux_2_28_x86_64.whl.metadata (62 kB)\n",
            "Requirement already satisfied: scipy in /usr/local/lib/python3.12/dist-packages (1.13.1)\n",
            "Collecting scipy\n",
            "  Downloading scipy-1.16.1-cp312-cp312-manylinux2014_x86_64.manylinux_2_17_x86_64.whl.metadata (61 kB)\n",
            "\u001b[2K     \u001b[90m━━━━━━━━━━━━━━━━━━━━━━━━━━━━━━━━━━━━━━━━\u001b[0m \u001b[32m62.0/62.0 kB\u001b[0m \u001b[31m2.3 MB/s\u001b[0m eta \u001b[36m0:00:00\u001b[0m\n",
            "\u001b[?25hRequirement already satisfied: smart-open>=1.8.1 in /usr/local/lib/python3.12/dist-packages (from gensim) (7.3.0.post1)\n",
            "Requirement already satisfied: wrapt in /usr/local/lib/python3.12/dist-packages (from smart-open>=1.8.1->gensim) (1.17.3)\n"
          ]
        }
      ]
    },
    {
      "cell_type": "markdown",
      "source": [
        "Descargamos los datos de textos de prensa, anotados con una de las siguientes clases: Pos, Neg,Neu. Por más información sobre el dataset, consulte [aquí](https://github.com/pln-fing-udelar/pln-inco-resources/tree/master/sentiment/corpusAnalisisSentimientosEsp)"
      ],
      "metadata": {
        "id": "-wlcQnjW3PqL"
      }
    },
    {
      "cell_type": "code",
      "source": [
        "! wget https://raw.githubusercontent.com/pln-fing-udelar/pln-inco-resources/master/sentiment/corpusAnalisisSentimientosEsp/prensaUyUnaClase.csv"
      ],
      "metadata": {
        "id": "u34lygcpDC1m",
        "colab": {
          "base_uri": "https://localhost:8080/"
        },
        "outputId": "31a7f51b-0b20-4689-e154-bfa0ab7e7c23"
      },
      "execution_count": null,
      "outputs": [
        {
          "output_type": "stream",
          "name": "stdout",
          "text": [
            "--2025-09-11 15:13:24--  https://raw.githubusercontent.com/pln-fing-udelar/pln-inco-resources/master/sentiment/corpusAnalisisSentimientosEsp/prensaUyUnaClase.csv\n",
            "Resolving raw.githubusercontent.com (raw.githubusercontent.com)... 185.199.108.133, 185.199.109.133, 185.199.110.133, ...\n",
            "Connecting to raw.githubusercontent.com (raw.githubusercontent.com)|185.199.108.133|:443... connected.\n",
            "HTTP request sent, awaiting response... 200 OK\n",
            "Length: 216401 (211K) [text/plain]\n",
            "Saving to: ‘prensaUyUnaClase.csv’\n",
            "\n",
            "prensaUyUnaClase.cs 100%[===================>] 211.33K  --.-KB/s    in 0.04s   \n",
            "\n",
            "2025-09-11 15:13:24 (5.72 MB/s) - ‘prensaUyUnaClase.csv’ saved [216401/216401]\n",
            "\n"
          ]
        }
      ]
    },
    {
      "cell_type": "markdown",
      "source": [
        "Cargamos el dataset en un dataframe de pandas y generamos conjuntos de entrenamiento, desarrollo y testeo.\n",
        "Este dataset está compuesto por textos con opiniones. Para cada opinión tenemos el texto, un campo que no utilizaremos, y una categoría, que puede ser: Pos, Neg, o Neutro (indicando su polaridad)."
      ],
      "metadata": {
        "id": "EY1akF6ON9UF"
      }
    },
    {
      "cell_type": "code",
      "source": [
        "from sklearn.model_selection import train_test_split\n",
        "\n",
        "dataset_df = pd.read_csv('./prensaUyUnaClase.csv', header=None)\n",
        "dataset_df.columns = ['text', 'extra', 'polarity']\n",
        "\n",
        "# Dividimos train y test\n",
        "temp_df, test_df = train_test_split(dataset_df, test_size=0.2, random_state=42)\n",
        "\n",
        "# Separamos conjunto de validación\n",
        "train_df, dev_df = train_test_split(temp_df, test_size=0.2, random_state=42)\n",
        "\n",
        "print(\"Training set size:\", len(train_df))\n",
        "print(\"Development set size:\", len(dev_df))\n",
        "print(\"Test set size:\", len(test_df))\n",
        "\n",
        "display(dataset_df.iloc[0].text)\n",
        "display(dataset_df.iloc[0].polarity)\n",
        "\n",
        "\n",
        "\n"
      ],
      "metadata": {
        "id": "Lgs3RHq1gARr",
        "colab": {
          "base_uri": "https://localhost:8080/",
          "height": 122
        },
        "outputId": "9277fb7d-ab4c-4910-9406-36d78d122752"
      },
      "execution_count": null,
      "outputs": [
        {
          "output_type": "stream",
          "name": "stdout",
          "text": [
            "Training set size: 806\n",
            "Development set size: 202\n",
            "Test set size: 253\n"
          ]
        },
        {
          "output_type": "display_data",
          "data": {
            "text/plain": [
              "'Según Batlle , esas palabras \" son palabras muy ilustrativas en cuanto a el sentimiento que ha sido hasta ahora el que ha prevalecido en el Uruguay , un sentimiento de tolerancia , un sentimiento de comprensión de la situación de el otro \"'"
            ],
            "application/vnd.google.colaboratory.intrinsic+json": {
              "type": "string"
            }
          },
          "metadata": {}
        },
        {
          "output_type": "display_data",
          "data": {
            "text/plain": [
              "'Pos'"
            ],
            "application/vnd.google.colaboratory.intrinsic+json": {
              "type": "string"
            }
          },
          "metadata": {}
        }
      ]
    },
    {
      "cell_type": "markdown",
      "source": [
        "En este laboratorio utilizaremos el texto como entrada (columna \"text\"), y el valor a predecir será la polaridad (columna \"polarity\").\n",
        "\n",
        "Imprimimos algunos textos de ejemplo y sus categorías, y luego imprimimos la cantidad de ejemplos de las tres clases en las tres particiones."
      ],
      "metadata": {
        "id": "kFox_v-5P9UM"
      }
    },
    {
      "cell_type": "code",
      "source": [
        "train_text = train_df.loc[:,'text'].to_numpy()\n",
        "dev_text = dev_df.loc[:,'text'].to_numpy()\n",
        "test_text = test_df.loc[:,'text'].to_numpy()\n",
        "\n",
        "train_labels = np.array([POLARITY_ID[l] for l in train_df.loc[:,'polarity']])\n",
        "dev_labels = np.array([POLARITY_ID[l] for l in dev_df.loc[:,'polarity']])\n",
        "test_labels = np.array([POLARITY_ID[l] for l in test_df.loc[:,'polarity']])\n",
        "\n",
        "print(train_text[121])\n",
        "print(POLARITY_LABELS[train_labels[121]])\n",
        "\n",
        "print(train_text[27])\n",
        "print(POLARITY_LABELS[train_labels[27]])\n",
        "\n",
        "print(train_text[755])\n",
        "print(POLARITY_LABELS[train_labels[755]])\n",
        "\n",
        "print(*POLARITY_LABELS, sep='\\t')\n",
        "print(*np.bincount(train_labels), sep='\\t')\n",
        "print(*np.bincount(dev_labels), sep='\\t')\n",
        "print(*np.bincount(test_labels), sep='\\t')\n"
      ],
      "metadata": {
        "id": "pSGVn-fjNwNe",
        "colab": {
          "base_uri": "https://localhost:8080/"
        },
        "outputId": "fdb69b4f-7b4a-4e71-bf0e-bbfd1569069f"
      },
      "execution_count": null,
      "outputs": [
        {
          "output_type": "stream",
          "name": "stdout",
          "text": [
            "Temas Deudas por vivienda Durazno | Víctor D. rodríguez A partir de la próxima semana los residentes de las viviendas podrán concurrir a la oficina local de la ANV para acordar la forma de pago de la deuda , dijo la presidenta\n",
            "Neu\n",
            "Astori consideró por otra parte que el documento presentado por las cámaras empresariales con aportes por la pérdida de competitividad es \" duro e injusto \"\n",
            "Neg\n",
            "\" Es la satisfacción de ver el trabajo de mi hijo Horacio , que conoce mucho de Criollos y ha hecho una selección fantástica que ha dado sus resultados \" , aseguró Horacio Castells Montes\n",
            "Pos\n",
            "Neg\tPos\tNeu\n",
            "336\t259\t211\n",
            "82\t62\t58\n",
            "114\t80\t59\n"
          ]
        }
      ]
    },
    {
      "cell_type": "code",
      "source": [
        "print(train_text[1])\n",
        "print(train_labels[1])"
      ],
      "metadata": {
        "id": "mAEmfm-kIXjw",
        "colab": {
          "base_uri": "https://localhost:8080/"
        },
        "outputId": "f36b4ec8-da54-4b1b-b01d-48b5c7176ea9"
      },
      "execution_count": null,
      "outputs": [
        {
          "output_type": "stream",
          "name": "stdout",
          "text": [
            "\" Es oportuno poner a consideración la oferta fruto de el trabajo de 3 décadas de selección en Polled Hereford , siempre comprando los mejores padres \" , dijo el propio Balles\n",
            "1\n"
          ]
        }
      ]
    },
    {
      "cell_type": "code",
      "source": [
        "device = torch.device(\"cuda\" if torch.cuda.is_available() else \"cpu\")"
      ],
      "metadata": {
        "id": "uA4uiHE-kq2y"
      },
      "execution_count": null,
      "outputs": []
    },
    {
      "cell_type": "markdown",
      "source": [
        "## Parte 1"
      ],
      "metadata": {
        "id": "7sKveWCBgHyq"
      }
    },
    {
      "cell_type": "markdown",
      "source": [
        "Utilizando pytorch, construir un clasificador tipo Multi-Layered Perceptron (MLP) que clasifique los textos según su sentimiento.\n",
        "En esta parte, se debe utilizar una representación tipo **bag-of-words (BOW)** para los tweets, la cual se utilizará como entrada de la red.\n",
        "\n",
        "Puede probar realizar diferentes alternativas dentro de la representación BOW, por ejemplo considerar o no mayúsculas y minúsculas, descartar palabras con listas de stop words, usar N-gramas de orden mayor en vez de palabras simples, o utilizar tf-idf\n",
        "\n",
        "**Sugerencias:**\n",
        "* Utilizar la clase CountVectorizer de sklearn\n",
        "* Limitar el número máximo de features para no quedarse sin memoria\n",
        "* Reducir la dimensionalidad del vector utilizando, por ejemplo, SVD"
      ],
      "metadata": {
        "id": "aUVQ4dkXQYtf"
      }
    },
    {
      "cell_type": "markdown",
      "source": [
        "\n",
        "    - Convertir las reviews a vectores utilizando la representación de Bag of Words\n",
        "    - Usar SVD para reducir la dimensionalidad de los vectores a tamaño 500\n"
      ],
      "metadata": {
        "id": "QCTS1Lu6WfqJ"
      }
    },
    {
      "cell_type": "code",
      "source": [
        "vectorizer_bow = CountVectorizer(\n",
        "    analyzer='word',\n",
        "    lowercase=True,\n",
        "    max_features=10000,\n",
        "    ngram_range=(1,3),\n",
        "    stop_words=stopwords.words('spanish')\n",
        ")\n",
        "vectorizer_bow.fit(train_text)\n",
        "\n",
        "svd = TruncatedSVD(n_components=500, random_state=42)\n",
        "svd.fit(vectorizer_bow.transform(train_text))\n",
        "\n",
        "def transform_data(texts, labels):\n",
        "    X_bow = vectorizer_bow.transform(texts)\n",
        "    X_svd = svd.transform(X_bow)\n",
        "    X_tensor = torch.tensor(X_svd, dtype=torch.float32)\n",
        "    y_tensor = torch.tensor(labels, dtype=torch.long)\n",
        "    return X_tensor, y_tensor\n",
        "\n",
        "X_train, y_train = transform_data(train_text, train_labels)\n",
        "X_dev, y_dev = transform_data(dev_text, dev_labels)"
      ],
      "metadata": {
        "id": "k44E9_AlM9ns"
      },
      "execution_count": null,
      "outputs": []
    },
    {
      "cell_type": "markdown",
      "source": [
        "Crearemos un custom Dataset de pytorch para almacenar nuestros conjuntos de train y test."
      ],
      "metadata": {
        "id": "--v_jkgPWz85"
      }
    },
    {
      "cell_type": "code",
      "source": [
        "class SentimentDataset(Dataset):\n",
        "    def __init__(self, X, y):\n",
        "        self.X = X\n",
        "        self.y = y\n",
        "    def __len__(self):\n",
        "        return len(self.X)\n",
        "    def __getitem__(self, idx):\n",
        "        return self.X[idx], self.y[idx]\n",
        "\n",
        "train_dataset = SentimentDataset(X_train, y_train)\n",
        "dev_dataset = SentimentDataset(X_dev, y_dev)\n",
        "\n",
        "train_loader = DataLoader(train_dataset, batch_size=64, shuffle=True)\n",
        "dev_loader = DataLoader(dev_dataset, batch_size=64, shuffle=False)"
      ],
      "metadata": {
        "id": "exihbMbYWYN5"
      },
      "execution_count": null,
      "outputs": []
    },
    {
      "cell_type": "markdown",
      "source": [
        "Crear el modelo"
      ],
      "metadata": {
        "id": "s-2ahRLRXAbk"
      }
    },
    {
      "cell_type": "code",
      "source": [
        "class MLP_bow(nn.Module):\n",
        "    def __init__(self, input_dim=500, hidden_dim=100, output_dim=3):\n",
        "        super(MLP_bow, self).__init__()\n",
        "        self.fc1 = nn.Linear(input_dim, hidden_dim)\n",
        "        self.fc2 = nn.Linear(hidden_dim, output_dim)\n",
        "    def forward(self, x):\n",
        "        x = F.relu(self.fc1(x))\n",
        "        x = self.fc2(x)  # sin softmax, porque CrossEntropyLoss lo aplica\n",
        "        return x\n",
        "\n",
        "model = MLP_bow().to(device)\n",
        "print(model)\n"
      ],
      "metadata": {
        "colab": {
          "base_uri": "https://localhost:8080/"
        },
        "id": "YRSpvOk8XCF_",
        "outputId": "37c2b578-e37e-4592-acc3-784677feef66"
      },
      "execution_count": null,
      "outputs": [
        {
          "output_type": "stream",
          "name": "stdout",
          "text": [
            "MLP_bow(\n",
            "  (fc1): Linear(in_features=500, out_features=100, bias=True)\n",
            "  (fc2): Linear(in_features=100, out_features=3, bias=True)\n",
            ")\n"
          ]
        }
      ]
    },
    {
      "cell_type": "markdown",
      "source": [
        "Entrenamiento"
      ],
      "metadata": {
        "id": "qDQtTdigXZ0H"
      }
    },
    {
      "cell_type": "code",
      "source": [
        "criterion = nn.CrossEntropyLoss()\n",
        "optimizer = optim.Adam(model.parameters(), lr=0.0001, weight_decay=1e-4)\n",
        "\n",
        "for epoch in range(20):\n",
        "    model.train()\n",
        "    running_loss = 0.0\n",
        "    for inputs, labels in train_loader:\n",
        "        inputs, labels = inputs.to(device), labels.to(device)\n",
        "        optimizer.zero_grad()\n",
        "        outputs = model(inputs)\n",
        "        loss = criterion(outputs, labels)\n",
        "        loss.backward()\n",
        "        optimizer.step()\n",
        "        running_loss += loss.item()\n",
        "    print(f\"Epoch {epoch+1}, Loss: {running_loss/len(train_loader):.4f}\")"
      ],
      "metadata": {
        "colab": {
          "base_uri": "https://localhost:8080/"
        },
        "id": "0WkZX2uxXcGe",
        "outputId": "fb41ed58-182e-4e4c-89c3-989fed1c4d76"
      },
      "execution_count": null,
      "outputs": [
        {
          "output_type": "stream",
          "name": "stdout",
          "text": [
            "Epoch 1, Loss: 1.0892\n",
            "Epoch 2, Loss: 1.0837\n",
            "Epoch 3, Loss: 1.0790\n",
            "Epoch 4, Loss: 1.0751\n",
            "Epoch 5, Loss: 1.0708\n",
            "Epoch 6, Loss: 1.0672\n",
            "Epoch 7, Loss: 1.0634\n",
            "Epoch 8, Loss: 1.0579\n",
            "Epoch 9, Loss: 1.0545\n",
            "Epoch 10, Loss: 1.0499\n",
            "Epoch 11, Loss: 1.0453\n",
            "Epoch 12, Loss: 1.0413\n",
            "Epoch 13, Loss: 1.0358\n",
            "Epoch 14, Loss: 1.0318\n",
            "Epoch 15, Loss: 1.0254\n",
            "Epoch 16, Loss: 1.0211\n",
            "Epoch 17, Loss: 1.0152\n",
            "Epoch 18, Loss: 1.0101\n",
            "Epoch 19, Loss: 1.0034\n",
            "Epoch 20, Loss: 0.9992\n"
          ]
        }
      ]
    },
    {
      "cell_type": "markdown",
      "source": [
        "Describa las características de su mejor modelo, incluyendo arquitectura e hiperparámetros. Evalúelo sobre el corpus de **dev**, imprimiendo la métrica accuracy, y las métricas macro-precision, macro-recall y macro-F1. Incluya también una matriz de confusión.\n",
        "\n",
        "---\n",
        "\n"
      ],
      "metadata": {
        "id": "krhvVHLeUqo5"
      }
    },
    {
      "cell_type": "code",
      "source": [
        "model.eval()\n",
        "y_true, y_pred = [], []\n",
        "with torch.no_grad():\n",
        "    for inputs, labels in dev_loader:\n",
        "        inputs, labels = inputs.to(device), labels.to(device)\n",
        "        outputs = model(inputs)\n",
        "        preds = torch.argmax(outputs, dim=1)\n",
        "        y_true.extend(labels.cpu().numpy())\n",
        "        y_pred.extend(preds.cpu().numpy())\n",
        "\n",
        "accuracy = accuracy_score(y_true, y_pred)\n",
        "precision, recall, f1, _ = precision_recall_fscore_support(y_true, y_pred, average=\"macro\")\n",
        "\n",
        "print(f\"\\nAccuracy: {accuracy:.4f}\")\n",
        "print(f\"Macro Precision: {precision:.4f}\")\n",
        "print(f\"Macro Recall: {recall:.4f}\")\n",
        "print(f\"Macro F1: {f1:.4f}\")\n",
        "\n",
        "# ======================================================\n",
        "# 6. Matriz de confusión\n",
        "# ======================================================\n",
        "cm = confusion_matrix(y_true, y_pred)\n",
        "df_cm = pd.DataFrame(cm, index=POLARITY_LABELS, columns=POLARITY_LABELS)\n",
        "plt.figure(figsize=(6,5))\n",
        "sn.heatmap(df_cm, annot=True, cmap='Blues', fmt='g')\n",
        "plt.title(\"Matriz de confusión (Dev)\")\n",
        "plt.xlabel(\"Predicción\")\n",
        "plt.ylabel(\"Valor real\")\n",
        "plt.show()"
      ],
      "metadata": {
        "id": "TgT4CAdSU5j9",
        "colab": {
          "base_uri": "https://localhost:8080/",
          "height": 629
        },
        "outputId": "3fb66f83-846f-4845-fb78-1dd21a6bd3ff"
      },
      "execution_count": null,
      "outputs": [
        {
          "output_type": "stream",
          "name": "stderr",
          "text": [
            "/usr/local/lib/python3.12/dist-packages/sklearn/metrics/_classification.py:1565: UndefinedMetricWarning: Precision is ill-defined and being set to 0.0 in labels with no predicted samples. Use `zero_division` parameter to control this behavior.\n",
            "  _warn_prf(average, modifier, f\"{metric.capitalize()} is\", len(result))\n"
          ]
        },
        {
          "output_type": "stream",
          "name": "stdout",
          "text": [
            "\n",
            "Accuracy: 0.4059\n",
            "Macro Precision: 0.1353\n",
            "Macro Recall: 0.3333\n",
            "Macro F1: 0.1925\n"
          ]
        },
        {
          "output_type": "display_data",
          "data": {
            "text/plain": [
              "<Figure size 600x500 with 2 Axes>"
            ],
            "image/png": "[encoded data removed]"
          },
          "metadata": {}
        }
      ]
    },
    {
      "cell_type": "markdown",
      "source": [
        "**Descripción del modelo**:\n",
        "\n",
        "..."
      ],
      "metadata": {
        "id": "IWtsONirghBO"
      }
    },
    {
      "cell_type": "markdown",
      "source": [
        "## Parte 2"
      ],
      "metadata": {
        "id": "X5YeUOn2gtL8"
      }
    },
    {
      "cell_type": "markdown",
      "source": [
        "Utilizando pytorch, construir un clasificador tipo Multi-Layered Perceptron (MLP) que clasifique los textos según su polaridad.\n",
        "En esta parte, se debe utilizar una representación tipo **centroide de word embeddings** para los tweets, la cual se utilizará como entrada de la red.\n",
        "\n",
        "Puede probar realizar diferentes alternativas dentro de la representación con word embeddings, por ejemplo considerar o no mayúsculas y minúsculas, o descartar palabras con listas de stop words.\n",
        "\n",
        "**Sugerencias:**\n",
        "* Puede utilizar uno de los embeddings que vimos en el taller en clase\n",
        "* O puede bajar alguna otra colección de embeddings, pero no entrene sus propios embeddings!"
      ],
      "metadata": {
        "id": "5klZ-zH3RuSx"
      }
    },
    {
      "cell_type": "code",
      "source": [
        "import gensim\n",
        "from gensim.models import KeyedVectors\n",
        "\n",
        "! wget https://cs.famaf.unc.edu.ar/~ccardellino/SBWCE/SBW-vectors-300-min5.bin.gz\n",
        "wv = KeyedVectors.load_word2vec_format(\"./SBW-vectors-300-min5.bin.gz\", binary=True)\n",
        "print(f\"Tamaño de embeddings: {wv.vectors.shape}\")  # (vocab_size, 300)\n",
        "embedding_dim = wv.vectors.shape[1]\n",
        "\n"
      ],
      "metadata": {
        "id": "6TKrfFb8T6LX",
        "colab": {
          "base_uri": "https://localhost:8080/"
        },
        "outputId": "f4d3004f-c977-4a23-e42d-3a1fb3152429"
      },
      "execution_count": null,
      "outputs": [
        {
          "output_type": "stream",
          "name": "stdout",
          "text": [
            "--2025-09-11 16:11:34--  https://cs.famaf.unc.edu.ar/~ccardellino/SBWCE/SBW-vectors-300-min5.bin.gz\n",
            "Resolving cs.famaf.unc.edu.ar (cs.famaf.unc.edu.ar)... 200.16.17.55\n",
            "Connecting to cs.famaf.unc.edu.ar (cs.famaf.unc.edu.ar)|200.16.17.55|:443... connected.\n",
            "HTTP request sent, awaiting response... 200 OK\n",
            "Length: 1123304474 (1.0G) [application/x-gzip]\n",
            "Saving to: ‘SBW-vectors-300-min5.bin.gz’\n",
            "\n",
            "SBW-vectors-300-min 100%[===================>]   1.05G  17.5MB/s    in 61s     \n",
            "\n",
            "2025-09-11 16:12:36 (17.5 MB/s) - ‘SBW-vectors-300-min5.bin.gz’ saved [1123304474/1123304474]\n",
            "\n",
            "Tamaño de embeddings: (1000653, 300)\n"
          ]
        }
      ]
    },
    {
      "cell_type": "markdown",
      "source": [
        "Convertir textos a centroides de embeddings"
      ],
      "metadata": {
        "id": "orfFXJfPjFIW"
      }
    },
    {
      "cell_type": "code",
      "source": [
        "def text_to_centroid(texts, wv, embedding_dim):\n",
        "    vectors = []\n",
        "    for text in texts:\n",
        "        tokens = word_tokenize(text.lower())  # pasamos a minúsculas\n",
        "        valid_tokens = [t for t in tokens if t in wv.key_to_index]\n",
        "        if valid_tokens:\n",
        "            vecs = [wv[t] for t in valid_tokens]\n",
        "            centroid = np.mean(vecs, axis=0)\n",
        "        else:\n",
        "            centroid = np.zeros(embedding_dim)  # vector cero si no hay palabras\n",
        "        vectors.append(centroid)\n",
        "    return np.array(vectors, dtype=np.float32)\n",
        "\n",
        "X_train = text_to_centroid(train_text, wv, embedding_dim)\n",
        "X_dev   = text_to_centroid(dev_text, wv, embedding_dim)\n",
        "y_train = np.array(train_labels, dtype=np.int64)\n",
        "y_dev   = np.array(dev_labels, dtype=np.int64)\n"
      ],
      "metadata": {
        "id": "Sam5Ey0WjDai"
      },
      "execution_count": null,
      "outputs": []
    },
    {
      "cell_type": "markdown",
      "source": [
        "Dataset y DataLoader"
      ],
      "metadata": {
        "id": "VDzufOL8jJ0l"
      }
    },
    {
      "cell_type": "code",
      "source": [
        "class EmbeddingDataset(Dataset):\n",
        "    def __init__(self, X, y):\n",
        "        self.X = torch.tensor(X, dtype=torch.float32)\n",
        "        self.y = torch.tensor(y, dtype=torch.long)\n",
        "    def __len__(self):\n",
        "        return len(self.X)\n",
        "    def __getitem__(self, idx):\n",
        "        return self.X[idx], self.y[idx]\n",
        "\n",
        "train_dataset = EmbeddingDataset(X_train, y_train)\n",
        "dev_dataset   = EmbeddingDataset(X_dev, y_dev)\n",
        "\n",
        "train_loader = DataLoader(train_dataset, batch_size=64, shuffle=True)\n",
        "dev_loader   = DataLoader(dev_dataset, batch_size=64, shuffle=False)\n"
      ],
      "metadata": {
        "id": "RjhIVRT6jInV"
      },
      "execution_count": null,
      "outputs": []
    },
    {
      "cell_type": "markdown",
      "source": [
        "MODELO\n"
      ],
      "metadata": {
        "id": "E9jlZoQkjMGr"
      }
    },
    {
      "cell_type": "code",
      "source": [
        "import torch.nn as nn\n",
        "import torch.nn.functional as F\n",
        "\n",
        "class MLP_embeddings(nn.Module):\n",
        "    def __init__(self, input_dim=embedding_dim, hidden_dim=200, output_dim=3):\n",
        "        super(MLP_embeddings, self).__init__()\n",
        "        self.fc1 = nn.Linear(input_dim, hidden_dim)\n",
        "        self.dropout = nn.Dropout(0.3)\n",
        "        self.fc2 = nn.Linear(hidden_dim, output_dim)\n",
        "    def forward(self, x):\n",
        "        x = F.relu(self.fc1(x))\n",
        "        x = self.dropout(x)\n",
        "        x = self.fc2(x)\n",
        "        return x\n",
        "\n",
        "device = torch.device(\"cuda\" if torch.cuda.is_available() else \"cpu\")\n",
        "model = MLP_embeddings().to(device)\n",
        "print(model)\n"
      ],
      "metadata": {
        "colab": {
          "base_uri": "https://localhost:8080/"
        },
        "id": "dgI_gaBFjLym",
        "outputId": "e703f3ea-1ef7-49da-e17c-b4cf629764fc"
      },
      "execution_count": null,
      "outputs": [
        {
          "output_type": "stream",
          "name": "stdout",
          "text": [
            "MLP_embeddings(\n",
            "  (fc1): Linear(in_features=300, out_features=200, bias=True)\n",
            "  (dropout): Dropout(p=0.3, inplace=False)\n",
            "  (fc2): Linear(in_features=200, out_features=3, bias=True)\n",
            ")\n"
          ]
        }
      ]
    },
    {
      "cell_type": "markdown",
      "source": [
        "ENTRENAMIENTO\n"
      ],
      "metadata": {
        "id": "NShUrcHNjOV_"
      }
    },
    {
      "cell_type": "code",
      "source": [
        "import torch.optim as optim\n",
        "\n",
        "criterion = nn.CrossEntropyLoss()\n",
        "optimizer = optim.Adam(model.parameters(), lr=0.001, weight_decay=1e-4)\n",
        "\n",
        "for epoch in range(20):\n",
        "    model.train()\n",
        "    running_loss = 0\n",
        "    for inputs, labels in train_loader:\n",
        "        inputs, labels = inputs.to(device), labels.to(device)\n",
        "        optimizer.zero_grad()\n",
        "        outputs = model(inputs)\n",
        "        loss = criterion(outputs, labels)\n",
        "        loss.backward()\n",
        "        optimizer.step()\n",
        "        running_loss += loss.item()\n",
        "    print(f\"Epoch {epoch+1}, Loss: {running_loss/len(train_loader):.4f}\")\n"
      ],
      "metadata": {
        "colab": {
          "base_uri": "https://localhost:8080/"
        },
        "id": "3kxA00iljOFW",
        "outputId": "3114628c-347e-4a6b-c000-132ff1ddd587"
      },
      "execution_count": null,
      "outputs": [
        {
          "output_type": "stream",
          "name": "stdout",
          "text": [
            "Epoch 1, Loss: 1.0840\n",
            "Epoch 2, Loss: 1.0650\n",
            "Epoch 3, Loss: 1.0473\n",
            "Epoch 4, Loss: 1.0265\n",
            "Epoch 5, Loss: 1.0034\n",
            "Epoch 6, Loss: 0.9688\n",
            "Epoch 7, Loss: 0.9385\n",
            "Epoch 8, Loss: 0.9220\n",
            "Epoch 9, Loss: 0.8954\n",
            "Epoch 10, Loss: 0.8708\n",
            "Epoch 11, Loss: 0.8672\n",
            "Epoch 12, Loss: 0.8411\n",
            "Epoch 13, Loss: 0.8279\n",
            "Epoch 14, Loss: 0.8318\n",
            "Epoch 15, Loss: 0.8171\n",
            "Epoch 16, Loss: 0.7937\n",
            "Epoch 17, Loss: 0.7816\n",
            "Epoch 18, Loss: 0.7791\n",
            "Epoch 19, Loss: 0.7721\n",
            "Epoch 20, Loss: 0.7512\n"
          ]
        }
      ]
    },
    {
      "cell_type": "markdown",
      "source": [
        "Describa las características de su mejor modelo, incluyendo arquitectura e hiperparámetros. Evalúelo sobre el corpus de **dev**, imprimiendo la métrica accuracy, y las métricas macro-precision, macro-recall y macro-F1. Incluya también una matriz de confusión.\n"
      ],
      "metadata": {
        "id": "cy10PcMRU8Qq"
      }
    },
    {
      "cell_type": "code",
      "source": [
        "from sklearn.metrics import accuracy_score, precision_recall_fscore_support, confusion_matrix\n",
        "import seaborn as sn\n",
        "import matplotlib.pyplot as plt\n",
        "\n",
        "model.eval()\n",
        "y_true, y_pred = [], []\n",
        "\n",
        "with torch.no_grad():\n",
        "    for inputs, labels in dev_loader:\n",
        "        inputs, labels = inputs.to(device), labels.to(device)\n",
        "        outputs = model(inputs)\n",
        "        preds = torch.argmax(outputs, dim=1)\n",
        "        y_true.extend(labels.cpu().numpy())\n",
        "        y_pred.extend(preds.cpu().numpy())\n",
        "\n",
        "accuracy = accuracy_score(y_true, y_pred)\n",
        "precision, recall, f1, _ = precision_recall_fscore_support(y_true, y_pred, average=\"macro\")\n",
        "\n",
        "print(f\"\\nAccuracy: {accuracy:.4f}\")\n",
        "print(f\"Macro Precision: {precision:.4f}\")\n",
        "print(f\"Macro Recall: {recall:.4f}\")\n",
        "print(f\"Macro F1: {f1:.4f}\")\n",
        "\n",
        "\n",
        "cm = confusion_matrix(y_true, y_pred)\n",
        "df_cm = pd.DataFrame(cm, index=POLARITY_LABELS, columns=POLARITY_LABELS)\n",
        "plt.figure(figsize=(6,5))\n",
        "sn.heatmap(df_cm, annot=True, cmap='Blues', fmt='g')\n",
        "plt.title(\"Matriz de confusión (Dev)\")\n",
        "plt.xlabel(\"Predicción\")\n",
        "plt.ylabel(\"Valor real\")\n",
        "plt.show()"
      ],
      "metadata": {
        "id": "igl-xpy4U9pV",
        "colab": {
          "base_uri": "https://localhost:8080/",
          "height": 574
        },
        "outputId": "152f3f73-3e76-43fd-a565-5b221a4b149b"
      },
      "execution_count": null,
      "outputs": [
        {
          "output_type": "stream",
          "name": "stdout",
          "text": [
            "\n",
            "Accuracy: 0.6188\n",
            "Macro Precision: 0.6162\n",
            "Macro Recall: 0.6043\n",
            "Macro F1: 0.6045\n"
          ]
        },
        {
          "output_type": "display_data",
          "data": {
            "text/plain": [
              "<Figure size 600x500 with 2 Axes>"
            ],
            "image/png": "[encoded data removed]"
          },
          "metadata": {}
        }
      ]
    },
    {
      "cell_type": "markdown",
      "source": [
        "**Descripción del modelo**:\n",
        "\n",
        "..."
      ],
      "metadata": {
        "id": "AClp-fF1g9ph"
      }
    },
    {
      "cell_type": "markdown",
      "source": [
        "Repita el paso anterior, utilizando la misma arquitectura, pero cambiando los embeddings utilizados. Compare los resultados y comente."
      ],
      "metadata": {
        "id": "dXdwVyuCNlUh"
      }
    },
    {
      "cell_type": "code",
      "source": [
        "from gensim.models import KeyedVectors\n",
        "from huggingface_hub import hf_hub_download\n",
        "\n",
        "# Descargar y cargar los embeddings\n",
        "file_path = hf_hub_download(\n",
        "    repo_id=\"Word2vec/wikipedia2vec_eswiki_20180420_100d\",\n",
        "    filename=\"eswiki_20180420_100d.txt\"\n",
        ")\n",
        "wv_wiki = KeyedVectors.load_word2vec_format(file_path)\n",
        "print(f\"Tamaño embeddings Wikipedia: {wv_wiki.vectors.shape}\")\n",
        "embedding_dim_wiki = wv_wiki.vectors.shape[1]\n"
      ],
      "metadata": {
        "id": "yVXkj-VDNypT",
        "colab": {
          "base_uri": "https://localhost:8080/",
          "height": 191,
          "referenced_widgets": [
            "45580c7b97c44f6f8c6463f9184957de",
            "a567087a45754ebc9ea1e9ff1ac803b8",
            "6366efa77ca64c1d878ea0e86ae48042",
            "ee16e37b6496428aaeb672187da67c22",
            "040d2fa8d3fb4f8cb047bb7d3655c6e4",
            "85f808cb9a8c4b5480f632c855569e5c",
            "bbf2896557034ebdaa33085d0c0d6283",
            "2e4ad886f6714f26802428328ac206f6",
            "10e8e45569d1451d99c286a201f1c60a",
            "f848337aa2b04844befd600410dc573f",
            "64b8a67b1d054a84968985983cfbbfed"
          ]
        },
        "outputId": "dd902a6d-b680-431c-8b52-5ff80dbef2ef"
      },
      "execution_count": null,
      "outputs": [
        {
          "output_type": "stream",
          "name": "stderr",
          "text": [
            "/usr/local/lib/python3.12/dist-packages/huggingface_hub/utils/_auth.py:94: UserWarning: \n",
            "The secret `HF_TOKEN` does not exist in your Colab secrets.\n",
            "To authenticate with the Hugging Face Hub, create a token in your settings tab (https://huggingface.co/settings/tokens), set it as secret in your Google Colab and restart your session.\n",
            "You will be able to reuse this secret in all of your notebooks.\n",
            "Please note that authentication is recommended but still optional to access public models or datasets.\n",
            "  warnings.warn(\n"
          ]
        },
        {
          "output_type": "display_data",
          "data": {
            "text/plain": [
              "eswiki_20180420_100d.txt:   0%|          | 0.00/1.41G [00:00<?, ?B/s]"
            ],
            "application/vnd.jupyter.widget-view+json": {
              "version_major": 2,
              "version_minor": 0,
              "model_id": "45580c7b97c44f6f8c6463f9184957de"
            }
          },
          "metadata": {}
        },
        {
          "output_type": "stream",
          "name": "stdout",
          "text": [
            "Tamaño embeddings Wikipedia: (1828809, 100)\n"
          ]
        }
      ]
    },
    {
      "cell_type": "code",
      "source": [
        "from nltk.tokenize import word_tokenize\n",
        "import numpy as np\n",
        "\n",
        "def text_to_centroid_wiki(texts, wv, embedding_dim):\n",
        "    vectors = []\n",
        "    for text in texts:\n",
        "        tokens = word_tokenize(text.lower())\n",
        "        valid_tokens = [t for t in tokens if t in wv.key_to_index]\n",
        "        if valid_tokens:\n",
        "            vecs = [wv[t] for t in valid_tokens]\n",
        "            centroid = np.mean(vecs, axis=0)\n",
        "        else:\n",
        "            centroid = np.zeros(embedding_dim)\n",
        "        vectors.append(centroid)\n",
        "    return np.array(vectors, dtype=np.float32)\n",
        "\n",
        "X_train_wiki = text_to_centroid_wiki(train_text, wv_wiki, embedding_dim_wiki)\n",
        "X_dev_wiki   = text_to_centroid_wiki(dev_text, wv_wiki, embedding_dim_wiki)\n"
      ],
      "metadata": {
        "id": "-EIRvSd1lhBI"
      },
      "execution_count": null,
      "outputs": []
    },
    {
      "cell_type": "code",
      "source": [
        "import torch\n",
        "from torch.utils.data import Dataset, DataLoader\n",
        "\n",
        "class EmbeddingDataset(Dataset):\n",
        "    def __init__(self, X, y):\n",
        "        self.X = torch.tensor(X, dtype=torch.float32)\n",
        "        self.y = torch.tensor(y, dtype=torch.long)\n",
        "    def __len__(self):\n",
        "        return len(self.X)\n",
        "    def __getitem__(self, idx):\n",
        "        return self.X[idx], self.y[idx]\n",
        "\n",
        "train_dataset_wiki = EmbeddingDataset(X_train_wiki, y_train)\n",
        "dev_dataset_wiki   = EmbeddingDataset(X_dev_wiki, y_dev)\n",
        "\n",
        "train_loader_wiki = DataLoader(train_dataset_wiki, batch_size=64, shuffle=True)\n",
        "dev_loader_wiki   = DataLoader(dev_dataset_wiki, batch_size=64, shuffle=False)\n"
      ],
      "metadata": {
        "id": "MSJSFxoilin6"
      },
      "execution_count": null,
      "outputs": []
    },
    {
      "cell_type": "code",
      "source": [
        "class MLP_embeddings(nn.Module):\n",
        "    def __init__(self, input_dim=embedding_dim_wiki, hidden_dim=200, output_dim=3):\n",
        "        super(MLP_embeddings, self).__init__()\n",
        "        self.fc1 = nn.Linear(input_dim, hidden_dim)\n",
        "        self.dropout = nn.Dropout(0.3)\n",
        "        self.fc2 = nn.Linear(hidden_dim, output_dim)\n",
        "    def forward(self, x):\n",
        "        x = F.relu(self.fc1(x))\n",
        "        x = self.dropout(x)\n",
        "        x = self.fc2(x)\n",
        "        return x\n",
        "\n",
        "device = torch.device(\"cuda\" if torch.cuda.is_available() else \"cpu\")\n",
        "model_wiki = MLP_embeddings().to(device)\n",
        "print(model_wiki)\n"
      ],
      "metadata": {
        "colab": {
          "base_uri": "https://localhost:8080/"
        },
        "id": "mp4-VXitljm7",
        "outputId": "63024e97-4696-4325-e723-7256bb566ab6"
      },
      "execution_count": null,
      "outputs": [
        {
          "output_type": "stream",
          "name": "stdout",
          "text": [
            "MLP_embeddings(\n",
            "  (fc1): Linear(in_features=100, out_features=200, bias=True)\n",
            "  (dropout): Dropout(p=0.3, inplace=False)\n",
            "  (fc2): Linear(in_features=200, out_features=3, bias=True)\n",
            ")\n"
          ]
        }
      ]
    },
    {
      "cell_type": "code",
      "source": [
        "import torch.optim as optim\n",
        "from sklearn.metrics import accuracy_score, precision_recall_fscore_support, confusion_matrix\n",
        "import seaborn as sn\n",
        "import matplotlib.pyplot as plt\n",
        "\n",
        "criterion = nn.CrossEntropyLoss()\n",
        "optimizer = optim.Adam(model_wiki.parameters(), lr=0.001, weight_decay=1e-4)\n",
        "\n",
        "# Entrenamiento\n",
        "for epoch in range(20):\n",
        "    model_wiki.train()\n",
        "    running_loss = 0\n",
        "    for inputs, labels in train_loader_wiki:\n",
        "        inputs, labels = inputs.to(device), labels.to(device)\n",
        "        optimizer.zero_grad()\n",
        "        outputs = model_wiki(inputs)\n",
        "        loss = criterion(outputs, labels)\n",
        "        loss.backward()\n",
        "        optimizer.step()\n",
        "        running_loss += loss.item()\n",
        "    print(f\"Epoch {epoch+1}, Loss: {running_loss/len(train_loader_wiki):.4f}\")\n",
        "\n",
        "# Evaluación\n",
        "model_wiki.eval()\n",
        "y_true, y_pred = [], []\n",
        "\n",
        "with torch.no_grad():\n",
        "    for inputs, labels in dev_loader_wiki:\n",
        "        inputs, labels = inputs.to(device), labels.to(device)\n",
        "        outputs = model_wiki(inputs)\n",
        "        preds = torch.argmax(outputs, dim=1)\n",
        "        y_true.extend(labels.cpu().numpy())\n",
        "        y_pred.extend(preds.cpu().numpy())\n",
        "\n",
        "accuracy = accuracy_score(y_true, y_pred)\n",
        "precision, recall, f1, _ = precision_recall_fscore_support(y_true, y_pred, average=\"macro\")\n",
        "print(f\"\\nAccuracy: {accuracy:.4f}\")\n",
        "print(f\"Macro Precision: {precision:.4f}\")\n",
        "print(f\"Macro Recall: {recall:.4f}\")\n",
        "print(f\"Macro F1: {f1:.4f}\")\n",
        "\n",
        "# Matriz de confusión\n",
        "cm = confusion_matrix(y_true, y_pred)\n",
        "df_cm = pd.DataFrame(cm, index=POLARITY_LABELS, columns=POLARITY_LABELS)\n",
        "plt.figure(figsize=(6,5))\n",
        "sn.heatmap(df_cm, annot=True, cmap='Blues', fmt='g')\n",
        "plt.title(\"Matriz de confusión (Dev) - Wikipedia embeddings\")\n",
        "plt.xlabel(\"Predicción\")\n",
        "plt.ylabel(\"Valor real\")\n",
        "plt.show()\n"
      ],
      "metadata": {
        "colab": {
          "base_uri": "https://localhost:8080/",
          "height": 922
        },
        "id": "q8R8xjIdllCC",
        "outputId": "93825e0a-7bd6-4286-8e8e-42b30bf0ad1f"
      },
      "execution_count": null,
      "outputs": [
        {
          "output_type": "stream",
          "name": "stdout",
          "text": [
            "Epoch 1, Loss: 1.0752\n",
            "Epoch 2, Loss: 1.0596\n",
            "Epoch 3, Loss: 1.0494\n",
            "Epoch 4, Loss: 1.0335\n",
            "Epoch 5, Loss: 1.0232\n",
            "Epoch 6, Loss: 1.0056\n",
            "Epoch 7, Loss: 0.9871\n",
            "Epoch 8, Loss: 0.9670\n",
            "Epoch 9, Loss: 0.9520\n",
            "Epoch 10, Loss: 0.9429\n",
            "Epoch 11, Loss: 0.9432\n",
            "Epoch 12, Loss: 0.9196\n",
            "Epoch 13, Loss: 0.9121\n",
            "Epoch 14, Loss: 0.9038\n",
            "Epoch 15, Loss: 0.8956\n",
            "Epoch 16, Loss: 0.8855\n",
            "Epoch 17, Loss: 0.8866\n",
            "Epoch 18, Loss: 0.8672\n",
            "Epoch 19, Loss: 0.8674\n",
            "Epoch 20, Loss: 0.8505\n",
            "\n",
            "Accuracy: 0.5495\n",
            "Macro Precision: 0.5445\n",
            "Macro Recall: 0.5322\n",
            "Macro F1: 0.5335\n"
          ]
        },
        {
          "output_type": "display_data",
          "data": {
            "text/plain": [
              "<Figure size 600x500 with 2 Axes>"
            ],
            "image/png": "[encoded data removed]"
          },
          "metadata": {}
        }
      ]
    },
    {
      "cell_type": "markdown",
      "source": [
        "**Comentarios**:\n",
        "\n",
        "..."
      ],
      "metadata": {
        "id": "RqFZsXcWhDUd"
      }
    },
    {
      "cell_type": "markdown",
      "source": [
        "## Parte 3 (opcional):\n",
        "Elija uno de los clasificadores anteriores y realice una búsqueda automatizada de hiperparámetros del modelo. Por ejemplo, puede utilizar una búsqueda en grilla completa o una búsqueda aleatoria, eligiendo diferente cantidad de capas, número unidades por capa, funciones de activación, y valores de learning rate. Intente encontrar el mejor clasificador posible, comparándolos sobre el corpus de **dev**."
      ],
      "metadata": {
        "id": "pK_cPTC1T79O"
      }
    },
    {
      "cell_type": "code",
      "source": [
        "# su código aquí\n"
      ],
      "metadata": {
        "id": "kdL72afBVAbG"
      },
      "execution_count": null,
      "outputs": []
    },
    {
      "cell_type": "markdown",
      "source": [
        "Describa las características de su mejor modelo, incluyendo arquitectura e hiperparámetros. Evalúelo sobre el corpus de **dev**, imprimiendo la métrica accuracy, y las métricas macro-precision, macro-recall y macro-F1. Incluya también una matriz de confusión."
      ],
      "metadata": {
        "id": "TSWMIx_tVDzo"
      }
    },
    {
      "cell_type": "code",
      "source": [
        "# su código aquí\n"
      ],
      "metadata": {
        "id": "d-pblGJkVH3_"
      },
      "execution_count": null,
      "outputs": []
    },
    {
      "cell_type": "markdown",
      "source": [
        "## Parte 4:\n",
        "\n",
        "Elija el mejor clasificador de todos los construidos en las partes anteriores, comparándolos utilizando la medida macro-F1, y evalúelo sobre el corpus de **test**, imprimiendo la métrica accuracy, y las métricas macro-precision, macro-recall y macro-F1."
      ],
      "metadata": {
        "id": "GOYqBdbKVJfh"
      }
    },
    {
      "cell_type": "code",
      "source": [
        "# su código aquí\n"
      ],
      "metadata": {
        "id": "GgJFRXTsVe8G"
      },
      "execution_count": null,
      "outputs": []
    },
    {
      "cell_type": "markdown",
      "source": [
        "Despliege la matriz de confusión sobre el corpus de **test** para las tres clases (P, N, NEU) para el mejor clasificador construido en las partes anteriores."
      ],
      "metadata": {
        "id": "sESZGWIYyP3Y"
      }
    },
    {
      "cell_type": "code",
      "source": [
        "# su código aquí\n"
      ],
      "metadata": {
        "id": "YkkYI0LR39Of"
      },
      "execution_count": null,
      "outputs": []
    },
    {
      "cell_type": "markdown",
      "source": [
        "Analice los resultados, y responda, al menos, las siguientes preguntas:\n",
        "\n",
        "1.   ¿Cuál fue la representación que funcionó mejor? Describa brevemente sus características.\n",
        "2.   ¿Cuál es la forma del modelo? Indique cantidad de capas, unidades, y funciones de activación. Puede usar el método print() sobre el modelo para imprimir la forma del modelo.\n",
        "3.   Indique qué categoría o categorías fueron las más difíciles de aprender para su clasificador. ¿La categoría más difícil es la misma para el mejor clasificador de las partes 1 y 2 (y la parte 3 si la hizo)?"
      ],
      "metadata": {
        "id": "L1D9IB7gVgmG"
      }
    },
    {
      "cell_type": "markdown",
      "source": [
        "( sus respuestas aquí)\n"
      ],
      "metadata": {
        "id": "peHQat3XWzX2"
      }
    }
  ]
}