{
 "cells": [
  {
   "cell_type": "markdown",
   "metadata": {
    "id": "t9ZNGOygrFsT"
   },
   "source": [
    "# Laboratorio 1\n",
    "**Redes Neuronales para Lenguaje Natural, 2025**\n",
    "\n",
    "En este laboratorio construiremos analizadores de sentimiento de tres clases (positivo, negativo, neutro) en textos que muestran opiniones, con el objetivo de comparar distintas técnicas de representación de los textos y utilizarlas para alimentar un modelo de redes neuronales.\n",
    "\n",
    "**Entrega: 9 de octubre de 2025**\n",
    "\n",
    "**Formato: notebook de Python (.ipynb)**\n",
    "\n",
    "**No olvidar mantener todas las salidas de cada región de código en el notebook!**\n",
    "\n",
    "---\n",
    "\n"
   ]
  },
  {
   "cell_type": "markdown",
   "metadata": {
    "id": "cc9wopipf1gD"
   },
   "source": [
    "## 0. Preparación del entorno"
   ]
  },
  {
   "cell_type": "markdown",
   "metadata": {
    "id": "jGKhZr0-Yx9O"
   },
   "source": [
    "Comenzamos con algunos imports y definiciones."
   ]
  },
  {
   "cell_type": "code",
   "execution_count": 1,
   "metadata": {
    "id": "sdk0m1WfYoeW"
   },
   "outputs": [
    {
     "name": "stdout",
     "output_type": "stream",
     "text": [
      "Requirement already satisfied: gensim in /home/bruno/Escritorio/Facultad/REDES NEURONALES/Laboratorios_RNLN/venv/lib/python3.12/site-packages (4.3.3)\n",
      "Requirement already satisfied: numpy<2.0,>=1.18.5 in /home/bruno/Escritorio/Facultad/REDES NEURONALES/Laboratorios_RNLN/venv/lib/python3.12/site-packages (from gensim) (1.26.4)\n",
      "Requirement already satisfied: scipy<1.14.0,>=1.7.0 in /home/bruno/Escritorio/Facultad/REDES NEURONALES/Laboratorios_RNLN/venv/lib/python3.12/site-packages (from gensim) (1.13.1)\n",
      "Requirement already satisfied: smart-open>=1.8.1 in /home/bruno/Escritorio/Facultad/REDES NEURONALES/Laboratorios_RNLN/venv/lib/python3.12/site-packages (from gensim) (7.3.1)\n",
      "Requirement already satisfied: wrapt in /home/bruno/Escritorio/Facultad/REDES NEURONALES/Laboratorios_RNLN/venv/lib/python3.12/site-packages (from smart-open>=1.8.1->gensim) (1.17.3)\n"
     ]
    }
   ],
   "source": [
    "! pip install --upgrade gensim\n",
    "\n",
    "\n",
    "import torch\n",
    "import gensim\n",
    "import numpy as np\n",
    "import pandas as pd\n",
    "from sklearn.metrics import precision_recall_fscore_support, accuracy_score, confusion_matrix\n",
    "\n",
    "POLARITY_LABELS = ['Neg','Pos','Neu']\n",
    "POLARITY_ID = {p:i for (i,p) in enumerate(POLARITY_LABELS) }"
   ]
  },
  {
   "cell_type": "code",
   "execution_count": 2,
   "metadata": {
    "id": "R4IY8g42ILdB"
   },
   "outputs": [
    {
     "data": {
      "text/plain": [
       "{'Neg': 0, 'Pos': 1, 'Neu': 2}"
      ]
     },
     "execution_count": 2,
     "metadata": {},
     "output_type": "execute_result"
    }
   ],
   "source": [
    "POLARITY_ID"
   ]
  },
  {
   "cell_type": "markdown",
   "metadata": {
    "id": "-wlcQnjW3PqL"
   },
   "source": [
    "Descargamos los datos de textos de prensa, anotados con una de las siguientes clases: Pos, Neg,Neu. Por más información sobre el dataset, consulte [aquí](https://github.com/pln-fing-udelar/pln-inco-resources/tree/master/sentiment/corpusAnalisisSentimientosEsp)"
   ]
  },
  {
   "cell_type": "code",
   "execution_count": 3,
   "metadata": {
    "id": "u34lygcpDC1m"
   },
   "outputs": [
    {
     "name": "stdout",
     "output_type": "stream",
     "text": [
      "--2025-09-14 19:53:24--  https://raw.githubusercontent.com/pln-fing-udelar/pln-inco-resources/master/sentiment/corpusAnalisisSentimientosEsp/prensaUyUnaClase.csv\n",
      "Resolviendo raw.githubusercontent.com (raw.githubusercontent.com)... 2606:50c0:8002::154, 2606:50c0:8003::154, 2606:50c0:8000::154, ...\n",
      "Conectando con raw.githubusercontent.com (raw.githubusercontent.com)[2606:50c0:8002::154]:443... conectado.\n",
      "Petición HTTP enviada, esperando respuesta... 200 OK\n",
      "Longitud: 216401 (211K) [text/plain]\n",
      "Guardando como: ‘prensaUyUnaClase.csv’\n",
      "\n",
      "prensaUyUnaClase.cs 100%[===================>] 211,33K  --.-KB/s    en 0,03s   \n",
      "\n",
      "2025-09-14 19:53:25 (6,89 MB/s) - ‘prensaUyUnaClase.csv’ guardado [216401/216401]\n",
      "\n"
     ]
    }
   ],
   "source": [
    "! wget https://raw.githubusercontent.com/pln-fing-udelar/pln-inco-resources/master/sentiment/corpusAnalisisSentimientosEsp/prensaUyUnaClase.csv"
   ]
  },
  {
   "cell_type": "markdown",
   "metadata": {
    "id": "EY1akF6ON9UF"
   },
   "source": [
    "Cargamos el dataset en un dataframe de pandas y generamos conjuntos de entrenamiento, desarrollo y testeo.\n",
    "Este dataset está compuesto por textos con opiniones. Para cada opinión tenemos el texto, un campo que no utilizaremos, y una categoría, que puede ser: Pos, Neg, o Neutro (indicando su polaridad)."
   ]
  },
  {
   "cell_type": "code",
   "execution_count": null,
   "metadata": {
    "id": "Lgs3RHq1gARr"
   },
   "outputs": [],
   "source": [
    "from sklearn.model_selection import train_test_split\n",
    "\n",
    "dataset_df = pd.read_csv('./prensaUyUnaClase.csv', header=None)\n",
    "dataset_df.columns = ['text', 'extra', 'polarity']\n",
    "\n",
    "# Dividimos train y test\n",
    "temp_df, test_df = train_test_split(dataset_df, test_size=0.2, random_state=42)\n",
    "\n",
    "# Separamos conjunto de validación\n",
    "train_df, dev_df = train_test_split(temp_df, test_size=0.2, random_state=42)\n",
    "\n",
    "print(\"Training set size:\", len(train_df))\n",
    "print(\"Development set size:\", len(dev_df))\n",
    "print(\"Test set size:\", len(test_df))\n",
    "\n",
    "display(dataset_df.iloc[0].text)\n",
    "display(dataset_df.iloc[0].polarity)\n",
    "\n",
    "\n",
    "\n"
   ]
  },
  {
   "cell_type": "markdown",
   "metadata": {
    "id": "kFox_v-5P9UM"
   },
   "source": [
    "En este laboratorio utilizaremos el texto como entrada (columna \"text\"), y el valor a predecir será la polaridad (columna \"polarity\").\n",
    "\n",
    "Imprimimos algunos textos de ejemplo y sus categorías, y luego imprimimos la cantidad de ejemplos de las tres clases en las tres particiones."
   ]
  },
  {
   "cell_type": "code",
   "execution_count": null,
   "metadata": {
    "id": "pSGVn-fjNwNe"
   },
   "outputs": [],
   "source": [
    "train_text = train_df.loc[:,'text'].to_numpy()\n",
    "dev_text = dev_df.loc[:,'text'].to_numpy()\n",
    "test_text = test_df.loc[:,'text'].to_numpy()\n",
    "\n",
    "train_labels = np.array([POLARITY_ID[l] for l in train_df.loc[:,'polarity']])\n",
    "dev_labels = np.array([POLARITY_ID[l] for l in dev_df.loc[:,'polarity']])\n",
    "test_labels = np.array([POLARITY_ID[l] for l in test_df.loc[:,'polarity']])\n",
    "\n",
    "print(train_text[121])\n",
    "print(POLARITY_LABELS[train_labels[121]])\n",
    "\n",
    "print(train_text[27])\n",
    "print(POLARITY_LABELS[train_labels[27]])\n",
    "\n",
    "print(train_text[755])\n",
    "print(POLARITY_LABELS[train_labels[755]])\n",
    "\n",
    "print(*POLARITY_LABELS, sep='\\t')\n",
    "print(*np.bincount(train_labels), sep='\\t')\n",
    "print(*np.bincount(dev_labels), sep='\\t')\n",
    "print(*np.bincount(test_labels), sep='\\t')\n"
   ]
  },
  {
   "cell_type": "code",
   "execution_count": null,
   "metadata": {
    "id": "mAEmfm-kIXjw"
   },
   "outputs": [],
   "source": [
    "print(train_text[1])\n",
    "print(train_labels[1])"
   ]
  },
  {
   "cell_type": "markdown",
   "metadata": {
    "id": "7sKveWCBgHyq"
   },
   "source": [
    "## Parte 1"
   ]
  },
  {
   "cell_type": "markdown",
   "metadata": {
    "id": "aUVQ4dkXQYtf"
   },
   "source": [
    "Utilizando pytorch, construir un clasificador tipo Multi-Layered Perceptron (MLP) que clasifique los textos según su sentimiento.\n",
    "En esta parte, se debe utilizar una representación tipo **bag-of-words (BOW)** para los tweets, la cual se utilizará como entrada de la red.\n",
    "\n",
    "Puede probar realizar diferentes alternativas dentro de la representación BOW, por ejemplo considerar o no mayúsculas y minúsculas, descartar palabras con listas de stop words, usar N-gramas de orden mayor en vez de palabras simples, o utilizar tf-idf\n",
    "\n",
    "**Sugerencias:**\n",
    "* Utilizar la clase CountVectorizer de sklearn\n",
    "* Limitar el número máximo de features para no quedarse sin memoria\n",
    "* Reducir la dimensionalidad del vector utilizando, por ejemplo, SVD"
   ]
  },
  {
   "cell_type": "code",
   "execution_count": null,
   "metadata": {
    "id": "k44E9_AlM9ns"
   },
   "outputs": [],
   "source": [
    "# su código aquí\n"
   ]
  },
  {
   "cell_type": "markdown",
   "metadata": {
    "id": "krhvVHLeUqo5"
   },
   "source": [
    "Describa las características de su mejor modelo, incluyendo arquitectura e hiperparámetros. Evalúelo sobre el corpus de **dev**, imprimiendo la métrica accuracy, y las métricas macro-precision, macro-recall y macro-F1. Incluya también una matriz de confusión.\n",
    "\n",
    "---\n",
    "\n"
   ]
  },
  {
   "cell_type": "code",
   "execution_count": null,
   "metadata": {
    "id": "TgT4CAdSU5j9"
   },
   "outputs": [],
   "source": [
    "# su código aquí\n"
   ]
  },
  {
   "cell_type": "markdown",
   "metadata": {
    "id": "IWtsONirghBO"
   },
   "source": [
    "**Descripción del modelo**:\n",
    "\n",
    "..."
   ]
  },
  {
   "cell_type": "markdown",
   "metadata": {
    "id": "X5YeUOn2gtL8"
   },
   "source": [
    "## Parte 2"
   ]
  },
  {
   "cell_type": "markdown",
   "metadata": {
    "id": "5klZ-zH3RuSx"
   },
   "source": [
    "Utilizando pytorch, construir un clasificador tipo Multi-Layered Perceptron (MLP) que clasifique los textos según su polaridad.\n",
    "En esta parte, se debe utilizar una representación tipo **centroide de word embeddings** para los tweets, la cual se utilizará como entrada de la red.\n",
    "\n",
    "Puede probar realizar diferentes alternativas dentro de la representación con word embeddings, por ejemplo considerar o no mayúsculas y minúsculas, o descartar palabras con listas de stop words.\n",
    "\n",
    "**Sugerencias:**\n",
    "* Puede utilizar uno de los embeddings que vimos en el taller en clase\n",
    "* O puede bajar alguna otra colección de embeddings, pero no entrene sus propios embeddings!"
   ]
  },
  {
   "cell_type": "code",
   "execution_count": null,
   "metadata": {
    "id": "6TKrfFb8T6LX"
   },
   "outputs": [],
   "source": [
    "# su código aquí\n"
   ]
  },
  {
   "cell_type": "markdown",
   "metadata": {
    "id": "cy10PcMRU8Qq"
   },
   "source": [
    "Describa las características de su mejor modelo, incluyendo arquitectura e hiperparámetros. Evalúelo sobre el corpus de **dev**, imprimiendo la métrica accuracy, y las métricas macro-precision, macro-recall y macro-F1. Incluya también una matriz de confusión.\n"
   ]
  },
  {
   "cell_type": "code",
   "execution_count": null,
   "metadata": {
    "id": "igl-xpy4U9pV"
   },
   "outputs": [],
   "source": [
    "# su código aquí\n"
   ]
  },
  {
   "cell_type": "markdown",
   "metadata": {
    "id": "AClp-fF1g9ph"
   },
   "source": [
    "**Descripción del modelo**:\n",
    "\n",
    "..."
   ]
  },
  {
   "cell_type": "code",
   "execution_count": null,
   "metadata": {
    "id": "iUZ71IA6hF4Q"
   },
   "outputs": [],
   "source": []
  },
  {
   "cell_type": "markdown",
   "metadata": {
    "id": "dXdwVyuCNlUh"
   },
   "source": [
    "Repita el paso anterior, utilizando la misma arquitectura, pero cambiando los embeddings utilizados. Compare los resultados y comente."
   ]
  },
  {
   "cell_type": "code",
   "execution_count": null,
   "metadata": {
    "id": "yVXkj-VDNypT"
   },
   "outputs": [],
   "source": [
    "# su código aquí"
   ]
  },
  {
   "cell_type": "markdown",
   "metadata": {
    "id": "RqFZsXcWhDUd"
   },
   "source": [
    "**Comentarios**:\n",
    "\n",
    "..."
   ]
  },
  {
   "cell_type": "markdown",
   "metadata": {
    "id": "pK_cPTC1T79O"
   },
   "source": [
    "## Parte 3 (opcional):\n",
    "Elija uno de los clasificadores anteriores y realice una búsqueda automatizada de hiperparámetros del modelo. Por ejemplo, puede utilizar una búsqueda en grilla completa o una búsqueda aleatoria, eligiendo diferente cantidad de capas, número unidades por capa, funciones de activación, y valores de learning rate. Intente encontrar el mejor clasificador posible, comparándolos sobre el corpus de **dev**."
   ]
  },
  {
   "cell_type": "code",
   "execution_count": null,
   "metadata": {
    "id": "kdL72afBVAbG"
   },
   "outputs": [],
   "source": [
    "# su código aquí\n"
   ]
  },
  {
   "cell_type": "markdown",
   "metadata": {
    "id": "TSWMIx_tVDzo"
   },
   "source": [
    "Describa las características de su mejor modelo, incluyendo arquitectura e hiperparámetros. Evalúelo sobre el corpus de **dev**, imprimiendo la métrica accuracy, y las métricas macro-precision, macro-recall y macro-F1. Incluya también una matriz de confusión."
   ]
  },
  {
   "cell_type": "code",
   "execution_count": null,
   "metadata": {
    "id": "d-pblGJkVH3_"
   },
   "outputs": [],
   "source": [
    "# su código aquí\n"
   ]
  },
  {
   "cell_type": "markdown",
   "metadata": {
    "id": "GOYqBdbKVJfh"
   },
   "source": [
    "## Parte 4:\n",
    "\n",
    "Elija el mejor clasificador de todos los construidos en las partes anteriores, comparándolos utilizando la medida macro-F1, y evalúelo sobre el corpus de **test**, imprimiendo la métrica accuracy, y las métricas macro-precision, macro-recall y macro-F1."
   ]
  },
  {
   "cell_type": "code",
   "execution_count": null,
   "metadata": {
    "id": "GgJFRXTsVe8G"
   },
   "outputs": [],
   "source": [
    "# su código aquí\n"
   ]
  },
  {
   "cell_type": "markdown",
   "metadata": {
    "id": "sESZGWIYyP3Y"
   },
   "source": [
    "Despliege la matriz de confusión sobre el corpus de **test** para las tres clases (P, N, NEU) para el mejor clasificador construido en las partes anteriores."
   ]
  },
  {
   "cell_type": "code",
   "execution_count": null,
   "metadata": {
    "id": "YkkYI0LR39Of"
   },
   "outputs": [],
   "source": [
    "# su código aquí\n"
   ]
  },
  {
   "cell_type": "markdown",
   "metadata": {
    "id": "L1D9IB7gVgmG"
   },
   "source": [
    "Analice los resultados, y responda, al menos, las siguientes preguntas:\n",
    "\n",
    "1.   ¿Cuál fue la representación que funcionó mejor? Describa brevemente sus características.\n",
    "2.   ¿Cuál es la forma del modelo? Indique cantidad de capas, unidades, y funciones de activación. Puede usar el método print() sobre el modelo para imprimir la forma del modelo.\n",
    "3.   Indique qué categoría o categorías fueron las más difíciles de aprender para su clasificador. ¿La categoría más difícil es la misma para el mejor clasificador de las partes 1 y 2 (y la parte 3 si la hizo)?"
   ]
  },
  {
   "cell_type": "markdown",
   "metadata": {
    "id": "peHQat3XWzX2"
   },
   "source": [
    "( sus respuestas aquí)\n"
   ]
  }
 ],
 "metadata": {
  "colab": {
   "gpuType": "T4",
   "provenance": []
  },
  "kernelspec": {
   "display_name": "venv (3.12.3)",
   "language": "python",
   "name": "python3"
  },
  "language_info": {
   "codemirror_mode": {
    "name": "ipython",
    "version": 3
   },
   "file_extension": ".py",
   "mimetype": "text/x-python",
   "name": "python",
   "nbconvert_exporter": "python",
   "pygments_lexer": "ipython3",
   "version": "3.12.3"
  }
 },
 "nbformat": 4,
 "nbformat_minor": 0
}
